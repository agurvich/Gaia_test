{
 "cells": [
  {
   "cell_type": "markdown",
   "id": "ba4740d1",
   "metadata": {},
   "source": [
    "# Grab Gaia data and format it for Firefly"
   ]
  },
  {
   "cell_type": "markdown",
   "id": "c8cbf98d",
   "metadata": {},
   "source": [
    "Create a conda env\n",
    "\n",
    "```\n",
    "conda create --name Gaia python=3.10 astropy astroquery jupyter scipy numpy matplotlib pandas h5py eventlet flask flask-socketio requests\n",
    "```\n"
   ]
  },
  {
   "cell_type": "code",
   "execution_count": 60,
   "id": "c124f0dd",
   "metadata": {},
   "outputs": [
    {
     "name": "stdout",
     "output_type": "stream",
     "text": [
      "The autoreload extension is already loaded. To reload it, use:\n",
      "  %reload_ext autoreload\n"
     ]
    }
   ],
   "source": [
    "%load_ext autoreload\n",
    "%autoreload 2\n",
    "\n",
    "import numpy as np\n",
    "import pandas as pd\n",
    "\n",
    "from astroquery.gaia import Gaia\n",
    "from astropy.table import Table, Column\n",
    "import astropy.units as u\n",
    "from astropy.coordinates import SkyCoord, ICRS\n",
    "from astropy.io import ascii"
   ]
  },
  {
   "cell_type": "code",
   "execution_count": 61,
   "id": "4ad3051f",
   "metadata": {},
   "outputs": [],
   "source": [
    "GaiaCatalog = \"gaiaedr3.gaia_source\" "
   ]
  },
  {
   "cell_type": "code",
   "execution_count": 233,
   "id": "416a0c24",
   "metadata": {},
   "outputs": [
    {
     "name": "stdout",
     "output_type": "stream",
     "text": [
      "SELECT TOP 10000000 ra, dec, parallax, pmra, pmdec, dr2_radial_velocity, phot_g_mean_mag, bp_rp FROM gaiaedr3.gaia_source WHERE phot_g_mean_mag<=12 AND parallax IS NOT NULL AND dr2_radial_velocity IS NOT NULL\n",
      "INFO: Query finished. [astroquery.utils.tap.core]\n",
      "<Table length=2346497>\n",
      "        name         dtype    unit                  description                 n_bad\n",
      "------------------- ------- -------- ------------------------------------------ -----\n",
      "                 ra float64      deg                            Right ascension     0\n",
      "                dec float64      deg                                Declination     0\n",
      "           parallax float64      mas                                   Parallax     0\n",
      "               pmra float64 mas / yr Proper motion in right ascension direction     0\n",
      "              pmdec float64 mas / yr     Proper motion in declination direction     0\n",
      "dr2_radial_velocity float32   km / s              Radial velocity from Gaia DR2     0\n",
      "    phot_g_mean_mag float32      mag                      G-band mean magnitude     0\n",
      "              bp_rp float32      mag                             BP - RP colour   448\n",
      "Jobid: 1654137128039O\n",
      "Phase: COMPLETED\n",
      "Owner: None\n",
      "Output file: async_20220601213208.vot\n",
      "Results: None\n"
     ]
    }
   ],
   "source": [
    "N = 1e7\n",
    "gmax = 12\n",
    "columns = 'ra, dec, parallax, pmra, pmdec, dr2_radial_velocity, phot_g_mean_mag, bp_rp'\n",
    "\n",
    "cmd = f\"SELECT TOP {int(N)} {columns} \\\n",
    "FROM {GaiaCatalog} \\\n",
    "WHERE phot_g_mean_mag<={gmax} \\\n",
    "AND parallax IS NOT NULL \\\n",
    "AND dr2_radial_velocity IS NOT NULL\"\n",
    "print(cmd)\n",
    "\n",
    "#synchronous commands are OK for jobs with < 2000 output rows\n",
    "#job = Gaia.launch_job(cmd, dump_to_file=False) \n",
    "\n",
    "#asynchronous commands for larger files\n",
    "job = Gaia.launch_job_async(cmd, dump_to_file=False)\n",
    "\n",
    "print(job)"
   ]
  },
  {
   "cell_type": "code",
   "execution_count": 234,
   "id": "43bfa0cd",
   "metadata": {},
   "outputs": [
    {
     "data": {
      "text/html": [
       "<div><i>Table length=2346497</i>\n",
       "<table id=\"table5212544928\" class=\"table-striped table-bordered table-condensed\">\n",
       "<thead><tr><th>ra</th><th>dec</th><th>parallax</th><th>pmra</th><th>pmdec</th><th>dr2_radial_velocity</th><th>phot_g_mean_mag</th><th>bp_rp</th></tr></thead>\n",
       "<thead><tr><th>deg</th><th>deg</th><th>mas</th><th>mas / yr</th><th>mas / yr</th><th>km / s</th><th>mag</th><th>mag</th></tr></thead>\n",
       "<thead><tr><th>float64</th><th>float64</th><th>float64</th><th>float64</th><th>float64</th><th>float32</th><th>float32</th><th>float32</th></tr></thead>\n",
       "<tr><td>282.717638809954</td><td>5.678589256718091</td><td>4.895651948510564</td><td>12.920215499221381</td><td>-12.157485102325001</td><td>-17.226954</td><td>10.219143</td><td>0.7910309</td></tr>\n",
       "<tr><td>285.42400750687676</td><td>5.748524590289011</td><td>2.8097993718125878</td><td>4.172226577840751</td><td>-2.456463325250668</td><td>10.045121</td><td>11.459485</td><td>0.8224335</td></tr>\n",
       "<tr><td>283.2253084293333</td><td>5.985893578742719</td><td>4.797513455035142</td><td>40.134645201165604</td><td>-23.7457194885826</td><td>22.376074</td><td>9.865556</td><td>0.7161522</td></tr>\n",
       "<tr><td>258.16921472992595</td><td>-19.17551233809951</td><td>0.5471487465757905</td><td>1.2252572441859229</td><td>4.034427556941061</td><td>-20.605927</td><td>9.423732</td><td>2.068554</td></tr>\n",
       "<tr><td>276.6671334933571</td><td>-23.36800196727716</td><td>0.4779239568776744</td><td>6.537071073496116</td><td>-2.8653532839112232</td><td>-39.64584</td><td>11.350695</td><td>1.9902363</td></tr>\n",
       "<tr><td>258.1501377276725</td><td>-19.157169294215578</td><td>0.43959325118390113</td><td>1.390618364094999</td><td>-4.666901669568685</td><td>-26.035835</td><td>11.965985</td><td>1.837017</td></tr>\n",
       "<tr><td>285.4302610444678</td><td>5.8185759796736205</td><td>2.626231713942302</td><td>-12.53273381974123</td><td>-9.01000902914774</td><td>6.69268</td><td>11.756206</td><td>0.95399</td></tr>\n",
       "<tr><td>282.7946127450585</td><td>5.790625549362154</td><td>1.2784787006805898</td><td>-2.5938735193501694</td><td>-9.114955094605095</td><td>3.0134463</td><td>11.737728</td><td>2.06361</td></tr>\n",
       "<tr><td>283.12530877550086</td><td>6.050877372101879</td><td>1.565778039123882</td><td>-3.384788451719281</td><td>-8.116365858582881</td><td>-28.795065</td><td>10.15765</td><td>1.5731535</td></tr>\n",
       "<tr><td>...</td><td>...</td><td>...</td><td>...</td><td>...</td><td>...</td><td>...</td><td>...</td></tr>\n",
       "<tr><td>196.27238545205947</td><td>-59.98190723015366</td><td>1.0466755994523198</td><td>-11.740247346877636</td><td>-5.23449033136629</td><td>-18.00193</td><td>11.206755</td><td>1.5577936</td></tr>\n",
       "<tr><td>196.14312744494424</td><td>-59.981539885915964</td><td>0.6589608159374222</td><td>-3.153692800302123</td><td>-0.4466873204640389</td><td>16.882915</td><td>11.708592</td><td>2.0796642</td></tr>\n",
       "<tr><td>196.1049213910826</td><td>-59.95097063906955</td><td>2.6300748155886473</td><td>-9.693899972059274</td><td>-0.5558640179428085</td><td>-23.991426</td><td>11.136645</td><td>1.4453917</td></tr>\n",
       "<tr><td>197.16006348777904</td><td>-59.077853389730734</td><td>0.5293722866308426</td><td>-8.44930513505773</td><td>-1.2006977181816578</td><td>-25.421669</td><td>11.880101</td><td>1.79175</td></tr>\n",
       "<tr><td>193.74092548426148</td><td>-60.65998250474246</td><td>0.38549282723768014</td><td>-10.93373271065174</td><td>1.3329252694435858</td><td>-47.780746</td><td>11.910892</td><td>2.006218</td></tr>\n",
       "<tr><td>196.34116552355553</td><td>-59.90138870612126</td><td>0.6951425049450439</td><td>-7.459445374920468</td><td>-2.292539961561355</td><td>-6.635069</td><td>11.68331</td><td>1.6689577</td></tr>\n",
       "<tr><td>196.4113300524811</td><td>-59.830069950572614</td><td>1.0033318290431275</td><td>-6.62375199902207</td><td>-2.154185968702858</td><td>-7.205876</td><td>11.773745</td><td>1.655364</td></tr>\n",
       "<tr><td>196.07968421204012</td><td>-59.950427179976934</td><td>3.5283342957262795</td><td>6.282377318841973</td><td>-1.2255588074624444</td><td>20.48076</td><td>8.536899</td><td>1.5936141</td></tr>\n",
       "<tr><td>196.35658489816905</td><td>-59.76646950345248</td><td>0.968330449777512</td><td>-19.112596352994892</td><td>-2.400177034207965</td><td>-10.94457</td><td>10.541385</td><td>1.8655643</td></tr>\n",
       "</table></div>"
      ],
      "text/plain": [
       "<Table length=2346497>\n",
       "        ra                 dec               parallax              pmra               pmdec        dr2_radial_velocity phot_g_mean_mag   bp_rp  \n",
       "       deg                 deg                 mas               mas / yr            mas / yr             km / s             mag          mag   \n",
       "     float64             float64             float64             float64             float64             float32           float32      float32 \n",
       "------------------ ------------------- ------------------- ------------------- ------------------- ------------------- --------------- ---------\n",
       "  282.717638809954   5.678589256718091   4.895651948510564  12.920215499221381 -12.157485102325001          -17.226954       10.219143 0.7910309\n",
       "285.42400750687676   5.748524590289011  2.8097993718125878   4.172226577840751  -2.456463325250668           10.045121       11.459485 0.8224335\n",
       " 283.2253084293333   5.985893578742719   4.797513455035142  40.134645201165604   -23.7457194885826           22.376074        9.865556 0.7161522\n",
       "258.16921472992595  -19.17551233809951  0.5471487465757905  1.2252572441859229   4.034427556941061          -20.605927        9.423732  2.068554\n",
       " 276.6671334933571  -23.36800196727716  0.4779239568776744   6.537071073496116 -2.8653532839112232           -39.64584       11.350695 1.9902363\n",
       " 258.1501377276725 -19.157169294215578 0.43959325118390113   1.390618364094999  -4.666901669568685          -26.035835       11.965985  1.837017\n",
       " 285.4302610444678  5.8185759796736205   2.626231713942302  -12.53273381974123   -9.01000902914774             6.69268       11.756206   0.95399\n",
       " 282.7946127450585   5.790625549362154  1.2784787006805898 -2.5938735193501694  -9.114955094605095           3.0134463       11.737728   2.06361\n",
       "283.12530877550086   6.050877372101879   1.565778039123882  -3.384788451719281  -8.116365858582881          -28.795065        10.15765 1.5731535\n",
       "               ...                 ...                 ...                 ...                 ...                 ...             ...       ...\n",
       "196.27238545205947  -59.98190723015366  1.0466755994523198 -11.740247346877636   -5.23449033136629           -18.00193       11.206755 1.5577936\n",
       "196.14312744494424 -59.981539885915964  0.6589608159374222  -3.153692800302123 -0.4466873204640389           16.882915       11.708592 2.0796642\n",
       " 196.1049213910826  -59.95097063906955  2.6300748155886473  -9.693899972059274 -0.5558640179428085          -23.991426       11.136645 1.4453917\n",
       "197.16006348777904 -59.077853389730734  0.5293722866308426   -8.44930513505773 -1.2006977181816578          -25.421669       11.880101   1.79175\n",
       "193.74092548426148  -60.65998250474246 0.38549282723768014  -10.93373271065174  1.3329252694435858          -47.780746       11.910892  2.006218\n",
       "196.34116552355553  -59.90138870612126  0.6951425049450439  -7.459445374920468  -2.292539961561355           -6.635069        11.68331 1.6689577\n",
       " 196.4113300524811 -59.830069950572614  1.0033318290431275   -6.62375199902207  -2.154185968702858           -7.205876       11.773745  1.655364\n",
       "196.07968421204012 -59.950427179976934  3.5283342957262795   6.282377318841973 -1.2255588074624444            20.48076        8.536899 1.5936141\n",
       "196.35658489816905  -59.76646950345248   0.968330449777512 -19.112596352994892  -2.400177034207965           -10.94457       10.541385 1.8655643"
      ]
     },
     "execution_count": 234,
     "metadata": {},
     "output_type": "execute_result"
    }
   ],
   "source": [
    "GaiaData = job.get_results()\n",
    "GaiaData"
   ]
  },
  {
   "cell_type": "markdown",
   "id": "29938562",
   "metadata": {},
   "source": [
    "## Convert these ra, dec, parallax coordinates to 3D cartesian\n",
    "\n",
    "A better way may be to use the Bailer-Jones distances..."
   ]
  },
  {
   "cell_type": "code",
   "execution_count": 235,
   "id": "d6ca212a",
   "metadata": {},
   "outputs": [],
   "source": [
    "mask = ( (GaiaData['parallax'] > 0) &\n",
    "         ~np.isnan((GaiaData['parallax'])) &\n",
    "         ~np.isnan((GaiaData['phot_g_mean_mag'])) &\n",
    "         ~np.isnan((GaiaData['bp_rp'])) &\n",
    "         ~np.isnan((GaiaData['dr2_radial_velocity'])) \n",
    "       )\n",
    "useGaiaData = GaiaData[mask]"
   ]
  },
  {
   "cell_type": "code",
   "execution_count": 236,
   "id": "1bf7d92d",
   "metadata": {},
   "outputs": [],
   "source": [
    "coordsRV = ICRS(ra = useGaiaData['ra'], \n",
    "              dec = useGaiaData['dec'], \n",
    "              distance = (useGaiaData['parallax']).to(u.parsec, equivalencies=u.parallax()),\n",
    "              pm_ra_cosdec = useGaiaData['pmra'],\n",
    "              pm_dec = useGaiaData['pmdec'], \n",
    "              radial_velocity = useGaiaData['dr2_radial_velocity'])\n",
    "#print(coordsRV.cartesian)\n",
    "#print(coordsRV.velocity)"
   ]
  },
  {
   "cell_type": "code",
   "execution_count": 237,
   "id": "ad958397",
   "metadata": {
    "scrolled": true
   },
   "outputs": [
    {
     "data": {
      "text/html": [
       "<div>\n",
       "<style scoped>\n",
       "    .dataframe tbody tr th:only-of-type {\n",
       "        vertical-align: middle;\n",
       "    }\n",
       "\n",
       "    .dataframe tbody tr th {\n",
       "        vertical-align: top;\n",
       "    }\n",
       "\n",
       "    .dataframe thead th {\n",
       "        text-align: right;\n",
       "    }\n",
       "</style>\n",
       "<table border=\"1\" class=\"dataframe\">\n",
       "  <thead>\n",
       "    <tr style=\"text-align: right;\">\n",
       "      <th></th>\n",
       "      <th>x</th>\n",
       "      <th>y</th>\n",
       "      <th>z</th>\n",
       "      <th>vx</th>\n",
       "      <th>vy</th>\n",
       "      <th>vz</th>\n",
       "      <th>bp_rp</th>\n",
       "      <th>phot_g_mean_mag</th>\n",
       "    </tr>\n",
       "  </thead>\n",
       "  <tbody>\n",
       "    <tr>\n",
       "      <th>0</th>\n",
       "      <td>44.747089</td>\n",
       "      <td>-198.273863</td>\n",
       "      <td>20.211384</td>\n",
       "      <td>8.686336</td>\n",
       "      <td>18.339788</td>\n",
       "      <td>-13.418920</td>\n",
       "      <td>0.791031</td>\n",
       "      <td>10.219143</td>\n",
       "    </tr>\n",
       "    <tr>\n",
       "      <th>1</th>\n",
       "      <td>94.178458</td>\n",
       "      <td>-341.354005</td>\n",
       "      <td>35.647542</td>\n",
       "      <td>9.554099</td>\n",
       "      <td>-8.162692</td>\n",
       "      <td>-3.117365</td>\n",
       "      <td>0.822433</td>\n",
       "      <td>11.459485</td>\n",
       "    </tr>\n",
       "    <tr>\n",
       "      <th>2</th>\n",
       "      <td>47.427379</td>\n",
       "      <td>-201.806657</td>\n",
       "      <td>21.737012</td>\n",
       "      <td>44.256740</td>\n",
       "      <td>-14.972933</td>\n",
       "      <td>-21.001991</td>\n",
       "      <td>0.716152</td>\n",
       "      <td>9.865556</td>\n",
       "    </tr>\n",
       "    <tr>\n",
       "      <th>3</th>\n",
       "      <td>-353.919672</td>\n",
       "      <td>-1689.582263</td>\n",
       "      <td>-600.317558</td>\n",
       "      <td>12.026454</td>\n",
       "      <td>5.635547</td>\n",
       "      <td>39.783008</td>\n",
       "      <td>2.068554</td>\n",
       "      <td>9.423732</td>\n",
       "    </tr>\n",
       "    <tr>\n",
       "      <th>4</th>\n",
       "      <td>223.001941</td>\n",
       "      <td>-1907.768735</td>\n",
       "      <td>-829.912968</td>\n",
       "      <td>58.867778</td>\n",
       "      <td>54.872438</td>\n",
       "      <td>-10.364953</td>\n",
       "      <td>1.990236</td>\n",
       "      <td>11.350695</td>\n",
       "    </tr>\n",
       "    <tr>\n",
       "      <th>...</th>\n",
       "      <td>...</td>\n",
       "      <td>...</td>\n",
       "      <td>...</td>\n",
       "      <td>...</td>\n",
       "      <td>...</td>\n",
       "      <td>...</td>\n",
       "      <td>...</td>\n",
       "      <td>...</td>\n",
       "    </tr>\n",
       "    <tr>\n",
       "      <th>2344537</th>\n",
       "      <td>-1234.699284</td>\n",
       "      <td>-301.921740</td>\n",
       "      <td>-2261.331976</td>\n",
       "      <td>-23.074748</td>\n",
       "      <td>132.772969</td>\n",
       "      <td>49.683330</td>\n",
       "      <td>2.006218</td>\n",
       "      <td>11.910892</td>\n",
       "    </tr>\n",
       "    <tr>\n",
       "      <th>2344538</th>\n",
       "      <td>-692.277165</td>\n",
       "      <td>-202.976038</td>\n",
       "      <td>-1244.584484</td>\n",
       "      <td>1.860059</td>\n",
       "      <td>53.555927</td>\n",
       "      <td>-2.099770</td>\n",
       "      <td>1.668958</td>\n",
       "      <td>11.683310</td>\n",
       "    </tr>\n",
       "    <tr>\n",
       "      <th>2344539</th>\n",
       "      <td>-480.489885</td>\n",
       "      <td>-141.519115</td>\n",
       "      <td>-861.667748</td>\n",
       "      <td>3.072682</td>\n",
       "      <td>33.529618</td>\n",
       "      <td>1.114667</td>\n",
       "      <td>1.655364</td>\n",
       "      <td>11.773745</td>\n",
       "    </tr>\n",
       "    <tr>\n",
       "      <th>2344540</th>\n",
       "      <td>-136.369876</td>\n",
       "      <td>-39.308765</td>\n",
       "      <td>-245.326095</td>\n",
       "      <td>-6.147136</td>\n",
       "      <td>-10.556231</td>\n",
       "      <td>-18.552521</td>\n",
       "      <td>1.593614</td>\n",
       "      <td>8.536899</td>\n",
       "    </tr>\n",
       "    <tr>\n",
       "      <th>2344541</th>\n",
       "      <td>-498.948244</td>\n",
       "      <td>-146.437725</td>\n",
       "      <td>-892.237023</td>\n",
       "      <td>-11.320699</td>\n",
       "      <td>94.189903</td>\n",
       "      <td>3.539421</td>\n",
       "      <td>1.865564</td>\n",
       "      <td>10.541385</td>\n",
       "    </tr>\n",
       "  </tbody>\n",
       "</table>\n",
       "<p>2344542 rows × 8 columns</p>\n",
       "</div>"
      ],
      "text/plain": [
       "                   x            y            z         vx          vy  \\\n",
       "0          44.747089  -198.273863    20.211384   8.686336   18.339788   \n",
       "1          94.178458  -341.354005    35.647542   9.554099   -8.162692   \n",
       "2          47.427379  -201.806657    21.737012  44.256740  -14.972933   \n",
       "3        -353.919672 -1689.582263  -600.317558  12.026454    5.635547   \n",
       "4         223.001941 -1907.768735  -829.912968  58.867778   54.872438   \n",
       "...              ...          ...          ...        ...         ...   \n",
       "2344537 -1234.699284  -301.921740 -2261.331976 -23.074748  132.772969   \n",
       "2344538  -692.277165  -202.976038 -1244.584484   1.860059   53.555927   \n",
       "2344539  -480.489885  -141.519115  -861.667748   3.072682   33.529618   \n",
       "2344540  -136.369876   -39.308765  -245.326095  -6.147136  -10.556231   \n",
       "2344541  -498.948244  -146.437725  -892.237023 -11.320699   94.189903   \n",
       "\n",
       "                vz     bp_rp  phot_g_mean_mag  \n",
       "0       -13.418920  0.791031        10.219143  \n",
       "1        -3.117365  0.822433        11.459485  \n",
       "2       -21.001991  0.716152         9.865556  \n",
       "3        39.783008  2.068554         9.423732  \n",
       "4       -10.364953  1.990236        11.350695  \n",
       "...            ...       ...              ...  \n",
       "2344537  49.683330  2.006218        11.910892  \n",
       "2344538  -2.099770  1.668958        11.683310  \n",
       "2344539   1.114667  1.655364        11.773745  \n",
       "2344540 -18.552521  1.593614         8.536899  \n",
       "2344541   3.539421  1.865564        10.541385  \n",
       "\n",
       "[2344542 rows x 8 columns]"
      ]
     },
     "execution_count": 237,
     "metadata": {},
     "output_type": "execute_result"
    }
   ],
   "source": [
    "outdfRV = pd.DataFrame()\n",
    "outdfRV['x'] = coordsRV.cartesian.x.value\n",
    "outdfRV['y'] = coordsRV.cartesian.y.value\n",
    "outdfRV['z'] = coordsRV.cartesian.z.value\n",
    "outdfRV['vx'] = coordsRV.velocity.d_x.value\n",
    "outdfRV['vy'] = coordsRV.velocity.d_y.value\n",
    "outdfRV['vz'] = coordsRV.velocity.d_z.value\n",
    "outdfRV['bp_rp'] = np.array(useGaiaData['bp_rp'].data)\n",
    "outdfRV['phot_g_mean_mag'] = np.array(useGaiaData['phot_g_mean_mag'].data)\n",
    "outdfRV"
   ]
  },
  {
   "cell_type": "code",
   "execution_count": 238,
   "id": "a22e9372",
   "metadata": {},
   "outputs": [],
   "source": [
    "# export this to a csv file for now\n",
    "outdfRV.to_csv('tmpGaia.csv')"
   ]
  },
  {
   "cell_type": "code",
   "execution_count": 239,
   "id": "46953dc9",
   "metadata": {},
   "outputs": [],
   "source": [
    "from firefly.data_reader import ArrayReader"
   ]
  },
  {
   "cell_type": "code",
   "execution_count": 265,
   "id": "f27ec1ff-9ea3-49ff-bc09-9e65f6588af2",
   "metadata": {},
   "outputs": [
    {
     "data": {
      "text/plain": [
       "(array([ 2.,  7., 15., 13., 18., 18., 14.,  6.,  4.,  3.]),\n",
       " array([1.55622705, 2.05395579, 2.55168452, 3.04941326, 3.547142  ,\n",
       "        4.04487074, 4.54259948, 5.04032822, 5.53805696, 6.0357857 ,\n",
       "        6.53351444]),\n",
       " <BarContainer object of 10 artists>)"
      ]
     },
     "execution_count": 265,
     "metadata": {},
     "output_type": "execute_result"
    },
    {
     "data": {
      "image/png": "[encoded data removed]",
      "text/plain": [
       "<Figure size 432x288 with 1 Axes>"
      ]
     },
     "metadata": {
      "needs_background": "light"
     },
     "output_type": "display_data"
    }
   ],
   "source": [
    "\n",
    "plt.hist(temps)"
   ]
  },
  {
   "cell_type": "code",
   "execution_count": 277,
   "id": "e618500d-94bf-4b01-87e9-1e00d4269d90",
   "metadata": {},
   "outputs": [],
   "source": [
    "from scipy.interpolate import interp1d"
   ]
  },
  {
   "cell_type": "code",
   "execution_count": 309,
   "id": "b3f6ac2d-a4cc-415a-ad97-164a3ad603d3",
   "metadata": {},
   "outputs": [
    {
     "data": {
      "image/png": "[encoded data removed]",
      "text/plain": [
       "<Figure size 720x480 with 2 Axes>"
      ]
     },
     "metadata": {},
     "output_type": "display_data"
    },
    {
     "data": {
      "image/png": "[encoded data removed]",
      "text/plain": [
       "<Figure size 720x480 with 1 Axes>"
      ]
     },
     "metadata": {},
     "output_type": "display_data"
    }
   ],
   "source": [
    "import matplotlib.pyplot as plt\n",
    "%matplotlib inline\n",
    "\n",
    "def remap_nonparametrically(values,old_interval,new_interval):\n",
    "    h,_ = np.histogram(values,bins=np.linspace(*old_interval))\n",
    "    new_edges = np.linspace(*new_interval)\n",
    "    probs = np.cumsum(h)/np.sum(h)\n",
    "    probs[0] = 0\n",
    "    inverter = interp1d(probs,temp_edges[1:])\n",
    "    new_values = inverter(np.random.uniform(0,1,df.shape[0]))\n",
    "    \n",
    "    sort_indices = np.argsort(values)\n",
    "    new_values = np.sort(new_values)[np.argsort(sort_indices)]\n",
    "    return new_values\n",
    "    \n",
    "    \n",
    "\n",
    "old_interval = (0,4)\n",
    "new_interval = (np.log10(2e3),5)\n",
    "\n",
    "h,edges,p = plt.hist(df['bp_rp'],bins=np.linspace(*old_interval))\n",
    "ax1 = plt.gca()\n",
    "ax2 = ax1.twiny()\n",
    "temps = remap_nonparametrically(df['bp_rp'],old_interval,new_interval)\n",
    "ax2.hist(temps,bins=np.linspace(*new_interval),histtype='step',color='C1',lw=3)\n",
    "\n",
    "ax1.set_xlabel('bp_rp')\n",
    "ax2.set_xlabel('log10(T)')\n",
    "plt.gcf().set_facecolor('white')\n",
    "plt.gcf().set_dpi(120)\n",
    "\n",
    "plt.figure()\n",
    "plt.plot(bp_rps,temps,'.')\n",
    "plt.gca().set_ylabel('log10(T)')\n",
    "plt.gca().set_xlabel('bp_rp')\n",
    "plt.gcf().set_dpi(120)\n",
    "plt.gcf().set_facecolor('white')"
   ]
  },
  {
   "cell_type": "code",
   "execution_count": 314,
   "id": "f0d5cff1-bdd8-4dcd-a191-b5b9541e987a",
   "metadata": {},
   "outputs": [
    {
     "data": {
      "text/plain": [
       "0.984375"
      ]
     },
     "execution_count": 314,
     "metadata": {},
     "output_type": "execute_result"
    }
   ],
   "source": []
  },
  {
   "cell_type": "code",
   "execution_count": 240,
   "id": "e0d708b3",
   "metadata": {},
   "outputs": [
    {
     "data": {
      "text/plain": [
       "array([[  44.74708905, -198.27386341,   20.21138422],\n",
       "       [  94.1784582 , -341.35400452,   35.64754174],\n",
       "       [  47.42737877, -201.80665677,   21.73701154],\n",
       "       ...,\n",
       "       [-480.48988524, -141.51911534, -861.66774804],\n",
       "       [-136.36987599,  -39.3087655 , -245.32609517],\n",
       "       [-498.94824416, -146.43772507, -892.23702308]])"
      ]
     },
     "execution_count": 240,
     "metadata": {},
     "output_type": "execute_result"
    }
   ],
   "source": [
    "df = pd.read_csv('tmpGaia.csv')\n",
    "coordinates = np.zeros((df.shape[0],3))\n",
    "velocities = np.zeros((df.shape[0],3))\n",
    "\n",
    "for i,axis in enumerate(['x','y','z']):\n",
    "    coordinates[:,i] = df[axis]\n",
    "    velocities[:,i] = df[f'v{axis}']\n",
    "coordinates"
   ]
  },
  {
   "cell_type": "code",
   "execution_count": 311,
   "id": "e10c023b-d9c5-4794-974a-147153346cec",
   "metadata": {},
   "outputs": [
    {
     "name": "stdout",
     "output_type": "stream",
     "text": [
      "bp_rp -0.1259861 7.2997017\n",
      "phot_g_mean_mag 2.4740036 12.0\n",
      "minus_mag -12.0 -2.4740036\n",
      "log10Temperature 3.3372207063318906 4.999980577312683\n"
     ]
    }
   ],
   "source": [
    "fields = {key:df[key].to_numpy() for key in ['bp_rp','phot_g_mean_mag']}\n",
    "fields['minus_mag'] = -fields['phot_g_mean_mag']\n",
    "fields['log10Temperature'] = temps\n",
    "for key,value in fields.items():\n",
    "    print(key,np.min(value),np.max(value))\n"
   ]
  },
  {
   "cell_type": "code",
   "execution_count": 321,
   "id": "b7f16e44",
   "metadata": {},
   "outputs": [
    {
     "name": "stdout",
     "output_type": "stream",
     "text": [
      "JSONdir: /Users/agurvich/GaiaeDR3 -- is not a sub-directory of firefly/static/data. \n",
      "This may produce confusing or inoperable results. As such, we will create a symlink for you when you writeToDisk.\n",
      "filter/colormap/radius flags correspond to: ['bp_rp', 'phot_g_mean_mag', 'minus_mag', 'log10Temperature']\n",
      "Outputting: eDR3-RV - 2344542/2344542 particles - 5 tracked fields\n"
     ]
    },
    {
     "data": {
      "text/plain": [
       "''"
      ]
     },
     "execution_count": 321,
     "metadata": {},
     "output_type": "execute_result"
    }
   ],
   "source": [
    "reader = ArrayReader(\n",
    "    ## don't have to pass as a list with 1 element \n",
    "    ##  if only 1 particle group\n",
    "    coordinates,\n",
    "    velocities,\n",
    "    'eDR3-RV',\n",
    "    fields,\n",
    "    JSONdir='GaiaeDR3', ## if not an absolute path assumes from ~\n",
    "    clean_JSONdir=True, ## delete old files in the directory\n",
    "    write_startup=True, ## overwrite the startup file (and turn off PG append)\n",
    "    write_to_disk=False, ## whether to write to disk at the end of __init__\n",
    "    field_filter_flags=[True,True,False,True], ## flags corresponding to fields\n",
    "    field_colormap_flags=[True,True,False,True],\n",
    "    field_radius_flags=[False,False,True,False],\n",
    ")\n",
    "\n",
    "reader.settings['sizeMult']['eDR3-RV'] = 1\n",
    "#reader.settings['radiusVariable']['eDR3-RV'] = 1\n",
    "\n",
    "## pick the last colormap, blackbody\n",
    "index = (256/8-1)\n",
    "reader.settings['colormap']['eDR3-RV'] = (index + 0.5) * (8/256)\n",
    "reader.settings['colormapVariable']['eDR3-RV'] = 2\n",
    "reader.settings['showColormap']['eDR3-RV'] = True\n",
    "reader.settings['GUIExcludeList'] = [\n",
    "    'eDR3-RV/dropdown/colormap',\n",
    "    'eDR3-RV/colorPicker',\n",
    "    'eDR3-RV/dropdown/general/radiusVariableSelector']\n",
    "\n",
    "\n",
    "reader.writeToDisk()"
   ]
  },
  {
   "cell_type": "code",
   "execution_count": 324,
   "id": "e0f8943a-c282-4b8e-87e4-1c320c4f365a",
   "metadata": {},
   "outputs": [
    {
     "data": {
      "text/plain": [
       "['/Users/agurvich/Gaia_test']"
      ]
     },
     "execution_count": 324,
     "metadata": {},
     "output_type": "execute_result"
    }
   ],
   "source": [
    "reader.copyFireflySourceToTarget('Gaia_test',init_gh_pages=False,overwrite=True,dump_data=True)"
   ]
  },
  {
   "cell_type": "code",
   "execution_count": null,
   "id": "dda402be",
   "metadata": {},
   "outputs": [],
   "source": [
    "reader.createOctrees([True],npart_min_node=1e4,npart_max_node=1e5)"
   ]
  },
  {
   "cell_type": "code",
   "execution_count": null,
   "id": "8f120f10",
   "metadata": {},
   "outputs": [],
   "source": [
    "## symlink = False -> data will be copied to static/data\n",
    "reader.writeToDisk(symlink=False)"
   ]
  }
 ],
 "metadata": {
  "kernelspec": {
   "display_name": "Python 3 (ipykernel)",
   "language": "python",
   "name": "python3"
  },
  "language_info": {
   "codemirror_mode": {
    "name": "ipython",
    "version": 3
   },
   "file_extension": ".py",
   "mimetype": "text/x-python",
   "name": "python",
   "nbconvert_exporter": "python",
   "pygments_lexer": "ipython3",
   "version": "3.8.13"
  }
 },
 "nbformat": 4,
 "nbformat_minor": 5
}
